{
 "cells": [
  {
   "cell_type": "code",
   "execution_count": 1,
   "id": "592d2bad",
   "metadata": {},
   "outputs": [],
   "source": [
    "import pandas as pd"
   ]
  },
  {
   "cell_type": "code",
   "execution_count": 2,
   "id": "2cdad266",
   "metadata": {},
   "outputs": [
    {
     "data": {
      "text/html": [
       "<div>\n",
       "<style scoped>\n",
       "    .dataframe tbody tr th:only-of-type {\n",
       "        vertical-align: middle;\n",
       "    }\n",
       "\n",
       "    .dataframe tbody tr th {\n",
       "        vertical-align: top;\n",
       "    }\n",
       "\n",
       "    .dataframe thead th {\n",
       "        text-align: right;\n",
       "    }\n",
       "</style>\n",
       "<table border=\"1\" class=\"dataframe\">\n",
       "  <thead>\n",
       "    <tr style=\"text-align: right;\">\n",
       "      <th></th>\n",
       "      <th>id</th>\n",
       "      <th>size</th>\n",
       "      <th>content</th>\n",
       "      <th>sample_repo_name</th>\n",
       "      <th>sample_path</th>\n",
       "      <th>original_content</th>\n",
       "      <th>source_category</th>\n",
       "    </tr>\n",
       "  </thead>\n",
       "  <tbody>\n",
       "    <tr>\n",
       "      <th>0</th>\n",
       "      <td>c9cf4a93718cce2c5bcfd5caf5ecbd8f0c1ae4a6</td>\n",
       "      <td>221</td>\n",
       "      <td>#!/bin/bash\\nset -e\\n\\nenv | sed 's/^/export /...</td>\n",
       "      <td>SpisTresci/SpisTresci</td>\n",
       "      <td>compose/django/cron.sh</td>\n",
       "      <td></td>\n",
       "      <td>.sh</td>\n",
       "    </tr>\n",
       "    <tr>\n",
       "      <th>1</th>\n",
       "      <td>c9aaa28acde02cba18658aa4f2eb335fb4cf20b7</td>\n",
       "      <td>265</td>\n",
       "      <td>#!/bin/sh -f\\nxv_path=\"/home/huchao/vivado/Viv...</td>\n",
       "      <td>chaohu/Daily-Learning</td>\n",
       "      <td>Verilog/lab2/lab2_1/lab1_2_2/lab1_2_2.sim/sim_...</td>\n",
       "      <td></td>\n",
       "      <td>.sh</td>\n",
       "    </tr>\n",
       "    <tr>\n",
       "      <th>2</th>\n",
       "      <td>2f1c35188379847bdb4d907196bb7f2dd7a515f7</td>\n",
       "      <td>376</td>\n",
       "      <td>#!/bin/bash\\n#--------------------------------...</td>\n",
       "      <td>BeeeOn/android</td>\n",
       "      <td>tests/monkey/kill-test.sh</td>\n",
       "      <td></td>\n",
       "      <td>.sh</td>\n",
       "    </tr>\n",
       "    <tr>\n",
       "      <th>3</th>\n",
       "      <td>04fe6cd6b11a81f12a91bd6effd318d2483a17d9</td>\n",
       "      <td>89</td>\n",
       "      <td>#!/bin/bash\\nrabbitmq-plugins enable rabbitmq_...</td>\n",
       "      <td>oscm/shell</td>\n",
       "      <td>mq/rabbitmq/enable.rabbitmq_management.sh</td>\n",
       "      <td></td>\n",
       "      <td>.sh</td>\n",
       "    </tr>\n",
       "    <tr>\n",
       "      <th>4</th>\n",
       "      <td>b46ba78936c1ec41fbf4aed15a876d858432db88</td>\n",
       "      <td>1905</td>\n",
       "      <td>{% if cluster.type == 'ec2' -%}\\n#$ -q all.q@@...</td>\n",
       "      <td>Kitware/HPCCloud</td>\n",
       "      <td>server/taskflows/hpccloud/taskflow/pvw.sh</td>\n",
       "      <td></td>\n",
       "      <td>.sh</td>\n",
       "    </tr>\n",
       "  </tbody>\n",
       "</table>\n",
       "</div>"
      ],
      "text/plain": [
       "                                         id  size  \\\n",
       "0  c9cf4a93718cce2c5bcfd5caf5ecbd8f0c1ae4a6   221   \n",
       "1  c9aaa28acde02cba18658aa4f2eb335fb4cf20b7   265   \n",
       "2  2f1c35188379847bdb4d907196bb7f2dd7a515f7   376   \n",
       "3  04fe6cd6b11a81f12a91bd6effd318d2483a17d9    89   \n",
       "4  b46ba78936c1ec41fbf4aed15a876d858432db88  1905   \n",
       "\n",
       "                                             content       sample_repo_name  \\\n",
       "0  #!/bin/bash\\nset -e\\n\\nenv | sed 's/^/export /...  SpisTresci/SpisTresci   \n",
       "1  #!/bin/sh -f\\nxv_path=\"/home/huchao/vivado/Viv...  chaohu/Daily-Learning   \n",
       "2  #!/bin/bash\\n#--------------------------------...         BeeeOn/android   \n",
       "3  #!/bin/bash\\nrabbitmq-plugins enable rabbitmq_...             oscm/shell   \n",
       "4  {% if cluster.type == 'ec2' -%}\\n#$ -q all.q@@...       Kitware/HPCCloud   \n",
       "\n",
       "                                         sample_path original_content  \\\n",
       "0                             compose/django/cron.sh                    \n",
       "1  Verilog/lab2/lab2_1/lab1_2_2/lab1_2_2.sim/sim_...                    \n",
       "2                          tests/monkey/kill-test.sh                    \n",
       "3          mq/rabbitmq/enable.rabbitmq_management.sh                    \n",
       "4          server/taskflows/hpccloud/taskflow/pvw.sh                    \n",
       "\n",
       "  source_category  \n",
       "0             .sh  \n",
       "1             .sh  \n",
       "2             .sh  \n",
       "3             .sh  \n",
       "4             .sh  "
      ]
     },
     "execution_count": 2,
     "metadata": {},
     "output_type": "execute_result"
    }
   ],
   "source": [
    "df = pd.read_json('./data/dataset.json')\n",
    "df.head()"
   ]
  },
  {
   "cell_type": "code",
   "execution_count": 3,
   "id": "5df2e921",
   "metadata": {},
   "outputs": [
    {
     "name": "stdout",
     "output_type": "stream",
     "text": [
      "<class 'pandas.core.frame.DataFrame'>\n",
      "Int64Index: 19243 entries, 0 to 19242\n",
      "Data columns (total 7 columns):\n",
      " #   Column            Non-Null Count  Dtype \n",
      "---  ------            --------------  ----- \n",
      " 0   id                19243 non-null  object\n",
      " 1   size              19243 non-null  int64 \n",
      " 2   content           19236 non-null  object\n",
      " 3   sample_repo_name  19243 non-null  object\n",
      " 4   sample_path       19243 non-null  object\n",
      " 5   original_content  19243 non-null  object\n",
      " 6   source_category   19243 non-null  object\n",
      "dtypes: int64(1), object(6)\n",
      "memory usage: 1.2+ MB\n"
     ]
    }
   ],
   "source": [
    "df.info()"
   ]
  },
  {
   "cell_type": "code",
   "execution_count": 4,
   "id": "35cf0643",
   "metadata": {},
   "outputs": [],
   "source": [
    "cs = []\n",
    "for idx, row in df.iterrows():\n",
    "    x = ''\n",
    "    try:\n",
    "        xn = row['content'].split('\\n')\n",
    "        x = ' \\\\n '.join(xn)\n",
    "    except:\n",
    "        pass\n",
    "    try:\n",
    "        xr = x.split('\\r')\n",
    "        x = ' \\\\r '.join(xr)\n",
    "    except:\n",
    "        pass\n",
    "    cs.append(x)"
   ]
  },
  {
   "cell_type": "code",
   "execution_count": 6,
   "id": "9c170037",
   "metadata": {},
   "outputs": [],
   "source": [
    "!mkdir -p data/dataset\n",
    "with open('./data/dataset/dataset.dat', 'w') as f:\n",
    "    for line in cs:\n",
    "        print(line, file=f, end='\\n')"
   ]
  },
  {
   "cell_type": "code",
   "execution_count": 7,
   "id": "b5578aef",
   "metadata": {},
   "outputs": [],
   "source": [
    "import metapy"
   ]
  },
  {
   "cell_type": "code",
   "execution_count": 9,
   "id": "b9108247",
   "metadata": {},
   "outputs": [],
   "source": [
    "idx = metapy.index.make_inverted_index('meta-config.toml')"
   ]
  },
  {
   "cell_type": "code",
   "execution_count": 10,
   "id": "d2648311",
   "metadata": {},
   "outputs": [],
   "source": [
    "ranker = metapy.index.OkapiBM25()"
   ]
  },
  {
   "cell_type": "code",
   "execution_count": 11,
   "id": "9d02a5e0",
   "metadata": {},
   "outputs": [],
   "source": [
    "query = metapy.index.Document()\n",
    "query.content('apt install git')"
   ]
  },
  {
   "cell_type": "code",
   "execution_count": 12,
   "id": "bfd51583",
   "metadata": {},
   "outputs": [
    {
     "data": {
      "text/plain": [
       "[(15817, 12.917325973510742),\n",
       " (16283, 12.807278633117676),\n",
       " (16870, 12.80057430267334),\n",
       " (15714, 12.78398323059082),\n",
       " (15943, 12.692952156066895)]"
      ]
     },
     "execution_count": 12,
     "metadata": {},
     "output_type": "execute_result"
    }
   ],
   "source": [
    "top_docs = ranker.score(idx, query, num_results=5)\n",
    "top_docs"
   ]
  },
  {
   "cell_type": "code",
   "execution_count": 13,
   "id": "d404cf2e",
   "metadata": {},
   "outputs": [
    {
     "name": "stdout",
     "output_type": "stream",
     "text": [
      "# Licensed under the Apache License, Version 2.0 (the \"License\"); you may not\n",
      "# use this file except in compliance with the License. You may obtain a copy of\n",
      "# the License at\n",
      "#\n",
      "#   http://www.apache.org/licenses/LICENSE-2.0\n",
      "#\n",
      "# Unless required by applicable law or agreed to in writing, software\n",
      "# distributed under the License is distributed on an \"AS IS\" BASIS, WITHOUT\n",
      "# WARRANTIES OR CONDITIONS OF ANY KIND, either express or implied. See the\n",
      "# License for the specific language governing permissions and limitations under\n",
      "# the License.\n",
      "\n",
      "FROM debian:jessie\n",
      "\n",
      "MAINTAINER Clemens Stolle klaemo@apache.org\n",
      "\n",
      "ENV COUCHDB_VERSION master\n",
      "\n",
      "RUN groupadd -r couchdb && useradd -d /usr/src/couchdb -g couchdb couchdb\n",
      "\n",
      "# download dependencies\n",
      "RUN apt-get update -y -qq && apt-get install -y --no-install-recommends \\\n",
      "    apt-transport-https \\\n",
      "    build-essential \\\n",
      "    ca-certificates \\\n",
      "    curl \\\n",
      "    erlang-dev \\\n",
      "    erlang-nox \\\n",
      "    git \\\n",
      "    haproxy \\\n",
      "    libcurl4-openssl-dev \\\n",
      "    libicu-dev \\\n",
      "    libmozjs185-dev \\\n",
      "    openssl \\\n",
      "    python \\\n",
      " && curl -s https://deb.nodesource.com/gpgkey/nodesource.gpg.key | apt-key add - \\\n",
      " && echo 'deb https://deb.nodesource.com/node_4.x jessie main' > /etc/apt/sources.list.d/nodesource.list \\\n",
      " && echo 'deb-src https://deb.nodesource.com/node_4.x jessie main' >> /etc/apt/sources.list.d/nodesource.list \\\n",
      " && apt-get update -y -qq && apt-get install -y nodejs \\\n",
      " && npm install -g grunt-cli \\\n",
      " && cd /usr/src && git clone --depth 1 https://git-wip-us.apache.org/repos/asf/couchdb.git \\\n",
      " && cd couchdb && git checkout $COUCHDB_VERSION \\\n",
      " && cd /usr/src/couchdb && ./configure --disable-docs && make \\\n",
      " && apt-get purge -y \\\n",
      "    binutils \\\n",
      "    build-essential \\\n",
      "    cpp \\\n",
      "    erlang-dev \\\n",
      "    git \\\n",
      "    libicu-dev \\\n",
      "    make \\\n",
      "    nodejs \\\n",
      "    perl \\\n",
      " && apt-get autoremove -y && apt-get clean \\\n",
      " && apt-get install -y libicu52 --no-install-recommends \\\n",
      " && rm -rf /var/lib/apt/lists/* /usr/lib/node_modules src/fauxton/node_modules src/**/.git .git\n",
      "\n",
      "# permissions\n",
      "RUN chmod +x /usr/src/couchdb/dev/run && chown -R couchdb:couchdb /usr/src/couchdb\n",
      "\n",
      "USER couchdb\n",
      "EXPOSE 5984 15984 25984 35984 15986 25986 35986\n",
      "WORKDIR /usr/src/couchdb\n",
      "\n",
      "ENTRYPOINT [\"/usr/src/couchdb/dev/run\"]\n",
      "CMD [\"--with-haproxy\"]\n",
      "\n"
     ]
    }
   ],
   "source": [
    "print(df.loc[15817].original_content)"
   ]
  }
 ],
 "metadata": {
  "kernelspec": {
   "display_name": "Python 3 (ipykernel)",
   "language": "python",
   "name": "python3"
  },
  "language_info": {
   "codemirror_mode": {
    "name": "ipython",
    "version": 3
   },
   "file_extension": ".py",
   "mimetype": "text/x-python",
   "name": "python",
   "nbconvert_exporter": "python",
   "pygments_lexer": "ipython3",
   "version": "3.7.13"
  }
 },
 "nbformat": 4,
 "nbformat_minor": 5
}
