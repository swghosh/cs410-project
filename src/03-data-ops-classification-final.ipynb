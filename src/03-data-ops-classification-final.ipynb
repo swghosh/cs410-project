{
 "cells": [
  {
   "cell_type": "markdown",
   "id": "e3f8f965",
   "metadata": {},
   "source": [
    "**This approach and the model prepared in this notebook was used in the final project UI which was deployed.**\n",
    "\n",
    "Project Web App: https://code-search-dot-code-crafts-1477836554331.el.r.appspot.com/\n",
    "\n",
    "<hr>\n",
    "\n",
    "As the former approach in the [other notebook: 02-data-ops-classification-experiment.ipynb](./02-data-ops-classification-experiment.ipynb) did not yield satisifactory performance on the classification task, instead we use automatic labelling and trained an SVM classifier which worked well performing very well on the downstream task.\n",
    "\n",
    "In this notebook, again we use the same pre-processed dataset prepared in the [previous notebook: 01-data-ops-preprocessing.ipynb](./01-data-ops-preprocessing.ipynb) and perform the following steps:\n",
    "\n",
    "1. Each shell script or batch file contents is labelled on the basis of the source category from where the data was collected. (`*.sh` and `Dockerfile` files are labelled to be originating from Linux OS, while `*.bat` files are labelled to be originating from Windows OS)\n",
    "2. We use a two-class classification problem to distinguish documents whether 'linux' or 'windows'.\n",
    "3. Split the dataset into 70:30 ratio for training and testing.\n",
    "4. Train the classifier using Bag of Words tokenization + TFIDF preprocessing in the pipeline followed by comparing results of SVM classifier and Naive Bayes classifier.\n",
    "5. SVM classifier was found to be more performant than Naive Bayes, and we store the model to disk, so the web app can reuse the saved model for classification at inference time when user provides input on web UI.\n",
    "\n",
    "As the classification dataset itself consists of imbalanced samples, we use imbalanced classification measures like F1-score, precision, recall to compare classifiers."
   ]
  },
  {
   "cell_type": "code",
   "execution_count": 1,
   "id": "d42dd5d7",
   "metadata": {},
   "outputs": [],
   "source": [
    "import pandas as pd\n",
    "from sklearn.utils import shuffle\n",
    "import metapy\n",
    "import numpy as np\n",
    "from sklearn.feature_extraction.text import CountVectorizer\n",
    "from sklearn.feature_extraction.text import TfidfTransformer\n",
    "from sklearn.naive_bayes import MultinomialNB\n",
    "from sklearn.svm import SVC\n",
    "from sklearn.model_selection import train_test_split\n",
    "from sklearn.metrics import classification_report\n",
    "from sklearn.pipeline import Pipeline\n",
    "import joblib"
   ]
  },
  {
   "cell_type": "code",
   "execution_count": 2,
   "id": "18c686d9",
   "metadata": {},
   "outputs": [
    {
     "data": {
      "text/html": [
       "<div>\n",
       "<style scoped>\n",
       "    .dataframe tbody tr th:only-of-type {\n",
       "        vertical-align: middle;\n",
       "    }\n",
       "\n",
       "    .dataframe tbody tr th {\n",
       "        vertical-align: top;\n",
       "    }\n",
       "\n",
       "    .dataframe thead th {\n",
       "        text-align: right;\n",
       "    }\n",
       "</style>\n",
       "<table border=\"1\" class=\"dataframe\">\n",
       "  <thead>\n",
       "    <tr style=\"text-align: right;\">\n",
       "      <th></th>\n",
       "      <th>id</th>\n",
       "      <th>size</th>\n",
       "      <th>content</th>\n",
       "      <th>sample_repo_name</th>\n",
       "      <th>sample_path</th>\n",
       "      <th>original_content</th>\n",
       "      <th>source_category</th>\n",
       "    </tr>\n",
       "  </thead>\n",
       "  <tbody>\n",
       "    <tr>\n",
       "      <th>0</th>\n",
       "      <td>c9cf4a93718cce2c5bcfd5caf5ecbd8f0c1ae4a6</td>\n",
       "      <td>221</td>\n",
       "      <td>#!/bin/bash\\nset -e\\n\\nenv | sed 's/^/export /...</td>\n",
       "      <td>SpisTresci/SpisTresci</td>\n",
       "      <td>compose/django/cron.sh</td>\n",
       "      <td></td>\n",
       "      <td>.sh</td>\n",
       "    </tr>\n",
       "    <tr>\n",
       "      <th>1</th>\n",
       "      <td>c9aaa28acde02cba18658aa4f2eb335fb4cf20b7</td>\n",
       "      <td>265</td>\n",
       "      <td>#!/bin/sh -f\\nxv_path=\"/home/huchao/vivado/Viv...</td>\n",
       "      <td>chaohu/Daily-Learning</td>\n",
       "      <td>Verilog/lab2/lab2_1/lab1_2_2/lab1_2_2.sim/sim_...</td>\n",
       "      <td></td>\n",
       "      <td>.sh</td>\n",
       "    </tr>\n",
       "    <tr>\n",
       "      <th>2</th>\n",
       "      <td>2f1c35188379847bdb4d907196bb7f2dd7a515f7</td>\n",
       "      <td>376</td>\n",
       "      <td>#!/bin/bash\\n#--------------------------------...</td>\n",
       "      <td>BeeeOn/android</td>\n",
       "      <td>tests/monkey/kill-test.sh</td>\n",
       "      <td></td>\n",
       "      <td>.sh</td>\n",
       "    </tr>\n",
       "    <tr>\n",
       "      <th>3</th>\n",
       "      <td>04fe6cd6b11a81f12a91bd6effd318d2483a17d9</td>\n",
       "      <td>89</td>\n",
       "      <td>#!/bin/bash\\nrabbitmq-plugins enable rabbitmq_...</td>\n",
       "      <td>oscm/shell</td>\n",
       "      <td>mq/rabbitmq/enable.rabbitmq_management.sh</td>\n",
       "      <td></td>\n",
       "      <td>.sh</td>\n",
       "    </tr>\n",
       "    <tr>\n",
       "      <th>4</th>\n",
       "      <td>b46ba78936c1ec41fbf4aed15a876d858432db88</td>\n",
       "      <td>1905</td>\n",
       "      <td>{% if cluster.type == 'ec2' -%}\\n#$ -q all.q@@...</td>\n",
       "      <td>Kitware/HPCCloud</td>\n",
       "      <td>server/taskflows/hpccloud/taskflow/pvw.sh</td>\n",
       "      <td></td>\n",
       "      <td>.sh</td>\n",
       "    </tr>\n",
       "  </tbody>\n",
       "</table>\n",
       "</div>"
      ],
      "text/plain": [
       "                                         id  size  \\\n",
       "0  c9cf4a93718cce2c5bcfd5caf5ecbd8f0c1ae4a6   221   \n",
       "1  c9aaa28acde02cba18658aa4f2eb335fb4cf20b7   265   \n",
       "2  2f1c35188379847bdb4d907196bb7f2dd7a515f7   376   \n",
       "3  04fe6cd6b11a81f12a91bd6effd318d2483a17d9    89   \n",
       "4  b46ba78936c1ec41fbf4aed15a876d858432db88  1905   \n",
       "\n",
       "                                             content       sample_repo_name  \\\n",
       "0  #!/bin/bash\\nset -e\\n\\nenv | sed 's/^/export /...  SpisTresci/SpisTresci   \n",
       "1  #!/bin/sh -f\\nxv_path=\"/home/huchao/vivado/Viv...  chaohu/Daily-Learning   \n",
       "2  #!/bin/bash\\n#--------------------------------...         BeeeOn/android   \n",
       "3  #!/bin/bash\\nrabbitmq-plugins enable rabbitmq_...             oscm/shell   \n",
       "4  {% if cluster.type == 'ec2' -%}\\n#$ -q all.q@@...       Kitware/HPCCloud   \n",
       "\n",
       "                                         sample_path original_content  \\\n",
       "0                             compose/django/cron.sh                    \n",
       "1  Verilog/lab2/lab2_1/lab1_2_2/lab1_2_2.sim/sim_...                    \n",
       "2                          tests/monkey/kill-test.sh                    \n",
       "3          mq/rabbitmq/enable.rabbitmq_management.sh                    \n",
       "4          server/taskflows/hpccloud/taskflow/pvw.sh                    \n",
       "\n",
       "  source_category  \n",
       "0             .sh  \n",
       "1             .sh  \n",
       "2             .sh  \n",
       "3             .sh  \n",
       "4             .sh  "
      ]
     },
     "execution_count": 2,
     "metadata": {},
     "output_type": "execute_result"
    }
   ],
   "source": [
    "df = pd.read_json('./web/data/dataset.json')\n",
    "df.head()"
   ]
  },
  {
   "cell_type": "code",
   "execution_count": 3,
   "id": "ee4cbc75",
   "metadata": {},
   "outputs": [
    {
     "data": {
      "text/html": [
       "<div>\n",
       "<style scoped>\n",
       "    .dataframe tbody tr th:only-of-type {\n",
       "        vertical-align: middle;\n",
       "    }\n",
       "\n",
       "    .dataframe tbody tr th {\n",
       "        vertical-align: top;\n",
       "    }\n",
       "\n",
       "    .dataframe thead th {\n",
       "        text-align: right;\n",
       "    }\n",
       "</style>\n",
       "<table border=\"1\" class=\"dataframe\">\n",
       "  <thead>\n",
       "    <tr style=\"text-align: right;\">\n",
       "      <th></th>\n",
       "      <th>content</th>\n",
       "      <th>source_category</th>\n",
       "    </tr>\n",
       "  </thead>\n",
       "  <tbody>\n",
       "    <tr>\n",
       "      <th>0</th>\n",
       "      <td>#!/bin/bash\\nset -e\\n\\nenv | sed 's/^/export /...</td>\n",
       "      <td>.sh</td>\n",
       "    </tr>\n",
       "    <tr>\n",
       "      <th>1</th>\n",
       "      <td>#!/bin/sh -f\\nxv_path=\"/home/huchao/vivado/Viv...</td>\n",
       "      <td>.sh</td>\n",
       "    </tr>\n",
       "    <tr>\n",
       "      <th>2</th>\n",
       "      <td>#!/bin/bash\\n#--------------------------------...</td>\n",
       "      <td>.sh</td>\n",
       "    </tr>\n",
       "    <tr>\n",
       "      <th>3</th>\n",
       "      <td>#!/bin/bash\\nrabbitmq-plugins enable rabbitmq_...</td>\n",
       "      <td>.sh</td>\n",
       "    </tr>\n",
       "    <tr>\n",
       "      <th>4</th>\n",
       "      <td>{% if cluster.type == 'ec2' -%}\\n#$ -q all.q@@...</td>\n",
       "      <td>.sh</td>\n",
       "    </tr>\n",
       "  </tbody>\n",
       "</table>\n",
       "</div>"
      ],
      "text/plain": [
       "                                             content source_category\n",
       "0  #!/bin/bash\\nset -e\\n\\nenv | sed 's/^/export /...             .sh\n",
       "1  #!/bin/sh -f\\nxv_path=\"/home/huchao/vivado/Viv...             .sh\n",
       "2  #!/bin/bash\\n#--------------------------------...             .sh\n",
       "3  #!/bin/bash\\nrabbitmq-plugins enable rabbitmq_...             .sh\n",
       "4  {% if cluster.type == 'ec2' -%}\\n#$ -q all.q@@...             .sh"
      ]
     },
     "execution_count": 3,
     "metadata": {},
     "output_type": "execute_result"
    }
   ],
   "source": [
    "df_req = df.copy().drop(columns=['id', 'sample_repo_name', 'sample_path', 'original_content', 'size'])\n",
    "df_req.head()"
   ]
  },
  {
   "cell_type": "code",
   "execution_count": 4,
   "id": "edbc8b0a",
   "metadata": {},
   "outputs": [
    {
     "data": {
      "text/html": [
       "<div>\n",
       "<style scoped>\n",
       "    .dataframe tbody tr th:only-of-type {\n",
       "        vertical-align: middle;\n",
       "    }\n",
       "\n",
       "    .dataframe tbody tr th {\n",
       "        vertical-align: top;\n",
       "    }\n",
       "\n",
       "    .dataframe thead th {\n",
       "        text-align: right;\n",
       "    }\n",
       "</style>\n",
       "<table border=\"1\" class=\"dataframe\">\n",
       "  <thead>\n",
       "    <tr style=\"text-align: right;\">\n",
       "      <th></th>\n",
       "      <th>content</th>\n",
       "      <th>source_category</th>\n",
       "    </tr>\n",
       "  </thead>\n",
       "  <tbody>\n",
       "    <tr>\n",
       "      <th>11477</th>\n",
       "      <td>#!/bin/bash\\nif [[ $TRAVIS_PULL_REQUEST == fal...</td>\n",
       "      <td>.sh</td>\n",
       "    </tr>\n",
       "    <tr>\n",
       "      <th>10984</th>\n",
       "      <td>#!/bin/sh\\n\\ntest_description='git p4 locked f...</td>\n",
       "      <td>.sh</td>\n",
       "    </tr>\n",
       "    <tr>\n",
       "      <th>14862</th>\n",
       "      <td>#!/bin/bash\\n# Copyright 2015, Google Inc.\\n# ...</td>\n",
       "      <td>.sh</td>\n",
       "    </tr>\n",
       "    <tr>\n",
       "      <th>8011</th>\n",
       "      <td>#!/bin/bash -e\\n#\\n# Capture ESXi traffic and ...</td>\n",
       "      <td>.sh</td>\n",
       "    </tr>\n",
       "    <tr>\n",
       "      <th>12195</th>\n",
       "      <td>#!/bin/sh\\n\\n# I use this to build static ucli...</td>\n",
       "      <td>.sh</td>\n",
       "    </tr>\n",
       "  </tbody>\n",
       "</table>\n",
       "</div>"
      ],
      "text/plain": [
       "                                                 content source_category\n",
       "11477  #!/bin/bash\\nif [[ $TRAVIS_PULL_REQUEST == fal...             .sh\n",
       "10984  #!/bin/sh\\n\\ntest_description='git p4 locked f...             .sh\n",
       "14862  #!/bin/bash\\n# Copyright 2015, Google Inc.\\n# ...             .sh\n",
       "8011   #!/bin/bash -e\\n#\\n# Capture ESXi traffic and ...             .sh\n",
       "12195  #!/bin/sh\\n\\n# I use this to build static ucli...             .sh"
      ]
     },
     "execution_count": 4,
     "metadata": {},
     "output_type": "execute_result"
    }
   ],
   "source": [
    "df_req = shuffle(df_req)\n",
    "df_req.head()"
   ]
  },
  {
   "cell_type": "code",
   "execution_count": 5,
   "id": "958be4c4",
   "metadata": {},
   "outputs": [],
   "source": [
    "def label(source_category):\n",
    "    if source_category == '.sh' or source_category == 'Dockerfile':\n",
    "        return 'linux'\n",
    "    elif source_category == '.bat':\n",
    "        return 'windows'\n",
    "    return ''"
   ]
  },
  {
   "cell_type": "code",
   "execution_count": 6,
   "id": "4d649021",
   "metadata": {},
   "outputs": [],
   "source": [
    "df_req['label'] = df_req.source_category.apply(label)"
   ]
  },
  {
   "cell_type": "code",
   "execution_count": 7,
   "id": "848ab98d",
   "metadata": {},
   "outputs": [
    {
     "data": {
      "text/html": [
       "<div>\n",
       "<style scoped>\n",
       "    .dataframe tbody tr th:only-of-type {\n",
       "        vertical-align: middle;\n",
       "    }\n",
       "\n",
       "    .dataframe tbody tr th {\n",
       "        vertical-align: top;\n",
       "    }\n",
       "\n",
       "    .dataframe thead th {\n",
       "        text-align: right;\n",
       "    }\n",
       "</style>\n",
       "<table border=\"1\" class=\"dataframe\">\n",
       "  <thead>\n",
       "    <tr style=\"text-align: right;\">\n",
       "      <th></th>\n",
       "      <th>content</th>\n",
       "      <th>source_category</th>\n",
       "      <th>label</th>\n",
       "    </tr>\n",
       "  </thead>\n",
       "  <tbody>\n",
       "    <tr>\n",
       "      <th>11477</th>\n",
       "      <td>#!/bin/bash\\nif [[ $TRAVIS_PULL_REQUEST == fal...</td>\n",
       "      <td>.sh</td>\n",
       "      <td>linux</td>\n",
       "    </tr>\n",
       "    <tr>\n",
       "      <th>10984</th>\n",
       "      <td>#!/bin/sh\\n\\ntest_description='git p4 locked f...</td>\n",
       "      <td>.sh</td>\n",
       "      <td>linux</td>\n",
       "    </tr>\n",
       "    <tr>\n",
       "      <th>14862</th>\n",
       "      <td>#!/bin/bash\\n# Copyright 2015, Google Inc.\\n# ...</td>\n",
       "      <td>.sh</td>\n",
       "      <td>linux</td>\n",
       "    </tr>\n",
       "    <tr>\n",
       "      <th>8011</th>\n",
       "      <td>#!/bin/bash -e\\n#\\n# Capture ESXi traffic and ...</td>\n",
       "      <td>.sh</td>\n",
       "      <td>linux</td>\n",
       "    </tr>\n",
       "    <tr>\n",
       "      <th>12195</th>\n",
       "      <td>#!/bin/sh\\n\\n# I use this to build static ucli...</td>\n",
       "      <td>.sh</td>\n",
       "      <td>linux</td>\n",
       "    </tr>\n",
       "  </tbody>\n",
       "</table>\n",
       "</div>"
      ],
      "text/plain": [
       "                                                 content source_category  \\\n",
       "11477  #!/bin/bash\\nif [[ $TRAVIS_PULL_REQUEST == fal...             .sh   \n",
       "10984  #!/bin/sh\\n\\ntest_description='git p4 locked f...             .sh   \n",
       "14862  #!/bin/bash\\n# Copyright 2015, Google Inc.\\n# ...             .sh   \n",
       "8011   #!/bin/bash -e\\n#\\n# Capture ESXi traffic and ...             .sh   \n",
       "12195  #!/bin/sh\\n\\n# I use this to build static ucli...             .sh   \n",
       "\n",
       "       label  \n",
       "11477  linux  \n",
       "10984  linux  \n",
       "14862  linux  \n",
       "8011   linux  \n",
       "12195  linux  "
      ]
     },
     "execution_count": 7,
     "metadata": {},
     "output_type": "execute_result"
    }
   ],
   "source": [
    "df_req.head()"
   ]
  },
  {
   "cell_type": "code",
   "execution_count": 8,
   "id": "7c0b31e8",
   "metadata": {},
   "outputs": [],
   "source": [
    "X = np.array(df_req.content)\n",
    "y = np.array(df_req.label)\n",
    "\n",
    "# ignore empty contents\n",
    "for i in range(len(X)):\n",
    "    if X[i] is None:\n",
    "        X[i] = ''\n",
    "\n",
    "# train test split\n",
    "X_train, X_test, y_train, y_test = train_test_split(\n",
    "    X, y, test_size=0.3, random_state=10)"
   ]
  },
  {
   "cell_type": "markdown",
   "id": "65b6a093",
   "metadata": {},
   "source": [
    "SVM Classifier."
   ]
  },
  {
   "cell_type": "code",
   "execution_count": 9,
   "id": "e56c025c",
   "metadata": {},
   "outputs": [
    {
     "data": {
      "text/plain": [
       "Pipeline(steps=[('vect', CountVectorizer()), ('tfidf', TfidfTransformer()),\n",
       "                ('clf', SVC())])"
      ]
     },
     "execution_count": 9,
     "metadata": {},
     "output_type": "execute_result"
    }
   ],
   "source": [
    "svm_clf = Pipeline([\n",
    "    ('vect', CountVectorizer()),\n",
    "    ('tfidf', TfidfTransformer()),\n",
    "    ('clf', SVC()),\n",
    "])\n",
    "\n",
    "svm_clf.fit(X_train, y_train)"
   ]
  },
  {
   "cell_type": "code",
   "execution_count": 10,
   "id": "6c430fcd",
   "metadata": {},
   "outputs": [
    {
     "name": "stdout",
     "output_type": "stream",
     "text": [
      "SVM Classification Report:\n",
      "              precision    recall  f1-score   support\n",
      "\n",
      "       linux       0.97      1.00      0.98      5103\n",
      "     windows       0.97      0.79      0.87       670\n",
      "\n",
      "    accuracy                           0.97      5773\n",
      "   macro avg       0.97      0.89      0.93      5773\n",
      "weighted avg       0.97      0.97      0.97      5773\n",
      "\n"
     ]
    }
   ],
   "source": [
    "y_pred = svm_clf.predict(X_test)\n",
    "\n",
    "print('SVM Classification Report:')\n",
    "print(classification_report(y_test, y_pred))"
   ]
  },
  {
   "cell_type": "code",
   "execution_count": 11,
   "id": "a196276c",
   "metadata": {},
   "outputs": [],
   "source": [
    "# sample user queries\n",
    "\n",
    "queries = [\n",
    "    'sudo apt-get install git', # ground truth: rhel/fedora\n",
    "    'cls rem rmdir', # windows\n",
    "    'sudo dnf install -y code', # ubuntu/debian\n",
    "    'apk add golang' # unknown/others\n",
    "]"
   ]
  },
  {
   "cell_type": "code",
   "execution_count": 12,
   "id": "3dd057d0",
   "metadata": {},
   "outputs": [
    {
     "name": "stdout",
     "output_type": "stream",
     "text": [
      "[{'sudo apt-get install git': 'linux'}, {'cls rem rmdir': 'windows'}, {'sudo dnf install -y code': 'linux'}, {'apk add golang': 'linux'}]\n"
     ]
    }
   ],
   "source": [
    "clfe = svm_clf.predict(np.array(queries))\n",
    "print([{q: i} for q, i in zip(queries, clfe)])"
   ]
  },
  {
   "cell_type": "markdown",
   "id": "7d404086",
   "metadata": {},
   "source": [
    "Naive Bayes classifier."
   ]
  },
  {
   "cell_type": "code",
   "execution_count": 13,
   "id": "1d368384",
   "metadata": {},
   "outputs": [
    {
     "data": {
      "text/plain": [
       "Pipeline(steps=[('vect', CountVectorizer()), ('tfidf', TfidfTransformer()),\n",
       "                ('clf', MultinomialNB())])"
      ]
     },
     "execution_count": 13,
     "metadata": {},
     "output_type": "execute_result"
    }
   ],
   "source": [
    "nb_clf = Pipeline([\n",
    "    ('vect', CountVectorizer()),\n",
    "    ('tfidf', TfidfTransformer()),\n",
    "    ('clf', MultinomialNB()),\n",
    "])\n",
    "\n",
    "nb_clf.fit(X_train, y_train)"
   ]
  },
  {
   "cell_type": "code",
   "execution_count": 14,
   "id": "bf3488db",
   "metadata": {},
   "outputs": [
    {
     "name": "stdout",
     "output_type": "stream",
     "text": [
      "Naive Bayes Classification Report:\n",
      "              precision    recall  f1-score   support\n",
      "\n",
      "       linux       0.90      1.00      0.95      5103\n",
      "     windows       1.00      0.15      0.27       670\n",
      "\n",
      "    accuracy                           0.90      5773\n",
      "   macro avg       0.95      0.58      0.61      5773\n",
      "weighted avg       0.91      0.90      0.87      5773\n",
      "\n"
     ]
    }
   ],
   "source": [
    "y_pred = nb_clf.predict(X_test)\n",
    "\n",
    "print('Naive Bayes Classification Report:')\n",
    "print(classification_report(y_test, y_pred))"
   ]
  },
  {
   "cell_type": "code",
   "execution_count": 15,
   "id": "9054ffe7",
   "metadata": {},
   "outputs": [
    {
     "name": "stdout",
     "output_type": "stream",
     "text": [
      "[{'sudo apt-get install git': 'linux'}, {'cls rem rmdir': 'windows'}, {'sudo dnf install -y code': 'linux'}, {'apk add golang': 'linux'}]\n"
     ]
    }
   ],
   "source": [
    "# sample user query\n",
    "clfe = nb_clf.predict(np.array(queries))\n",
    "print([{q: i} for q, i in zip(queries, clfe)])"
   ]
  },
  {
   "cell_type": "markdown",
   "id": "b28f8f6e",
   "metadata": {},
   "source": [
    "SVM classifier works better than Naive Bayes classifier, we persist the SVM model along with BOW and TFIDF preprocessing pipeline to disk, so model deployment in web app can reuse it later."
   ]
  },
  {
   "cell_type": "code",
   "execution_count": 16,
   "id": "bf8b4cf0",
   "metadata": {},
   "outputs": [
    {
     "data": {
      "text/plain": [
       "['./web/data/model.joblib']"
      ]
     },
     "execution_count": 16,
     "metadata": {},
     "output_type": "execute_result"
    }
   ],
   "source": [
    "joblib.dump(svm_clf, './web/data/model.joblib')"
   ]
  }
 ],
 "metadata": {
  "kernelspec": {
   "display_name": "Python 3 (ipykernel)",
   "language": "python",
   "name": "python3"
  },
  "language_info": {
   "codemirror_mode": {
    "name": "ipython",
    "version": 3
   },
   "file_extension": ".py",
   "mimetype": "text/x-python",
   "name": "python",
   "nbconvert_exporter": "python",
   "pygments_lexer": "ipython3",
   "version": "3.7.13"
  }
 },
 "nbformat": 4,
 "nbformat_minor": 5
}
